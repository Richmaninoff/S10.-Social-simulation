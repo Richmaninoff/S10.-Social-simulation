{
 "cells": [
  {
   "cell_type": "markdown",
   "id": "8f6765dd",
   "metadata": {},
   "source": [
    "moderamiento basado en agentes"
   ]
  },
  {
   "cell_type": "code",
   "execution_count": 26,
   "id": "b1fcd9a3",
   "metadata": {},
   "outputs": [],
   "source": [
    "strategies=['Rock','Paper','Scissors']"
   ]
  },
  {
   "cell_type": "code",
   "execution_count": 27,
   "id": "73084e6c",
   "metadata": {},
   "outputs": [],
   "source": [
    "payoff={('Rock','Paper'):(0,1),\n",
    "        ('Paper','Rock'):(1,0),\n",
    "        ('Rock','Scissors'):(1,0),\n",
    "        ('Scissors','Rock'):(0,1),\n",
    "        ('Paper','Scissors'):(0,1),\n",
    "        ('Scissors','Paper'):(1,0),\n",
    "        ('Rock','Rock'):(0,0),\n",
    "        ('Paper','Paper'):(0,0),\n",
    "        ('Scissors','Scissors'):(0,0)}"
   ]
  },
  {
   "cell_type": "code",
   "execution_count": 28,
   "id": "533836b1",
   "metadata": {},
   "outputs": [],
   "source": [
    "Players=[{'name':'John','score':0,'strategy':None},\n",
    "         {'name':'Mary','score':0,'strategy':None}]"
   ]
  },
  {
   "cell_type": "markdown",
   "id": "7fd86ce8",
   "metadata": {},
   "source": [
    "Decision making process\n",
    "This is the process to choose an strategy:"
   ]
  },
  {
   "cell_type": "code",
   "execution_count": 29,
   "id": "69f3f312",
   "metadata": {},
   "outputs": [],
   "source": [
    "from random import choice\n",
    "#choice elige estrategias al azar, pero el modelo no tiene memoria que sería la base del learning\n",
    "\n",
    "#simplest strategy: choose randomly\n",
    "choice(strategies);"
   ]
  },
  {
   "cell_type": "code",
   "execution_count": null,
   "id": "0dad414b",
   "metadata": {},
   "outputs": [],
   "source": []
  },
  {
   "cell_type": "markdown",
   "id": "f624bbe8",
   "metadata": {},
   "source": [
    "## The moment of truth\n",
    "\n",
    "### agent decide strategy"
   ]
  },
  {
   "cell_type": "code",
   "execution_count": 38,
   "id": "026132ee",
   "metadata": {},
   "outputs": [],
   "source": [
    "Players[0]['strategy']=choice(strategies)\n",
    "Players[1]['strategy']=choice(strategies)"
   ]
  },
  {
   "cell_type": "code",
   "execution_count": 39,
   "id": "7750f52f",
   "metadata": {},
   "outputs": [
    {
     "data": {
      "text/plain": [
       "('Paper', 'Rock')"
      ]
     },
     "execution_count": 39,
     "metadata": {},
     "output_type": "execute_result"
    }
   ],
   "source": [
    "Players[0]['strategy'],Players[1]['strategy']"
   ]
  },
  {
   "cell_type": "code",
   "execution_count": 40,
   "id": "a5f53016",
   "metadata": {},
   "outputs": [
    {
     "data": {
      "text/plain": [
       "(1, 0)"
      ]
     },
     "execution_count": 40,
     "metadata": {},
     "output_type": "execute_result"
    }
   ],
   "source": [
    "# social result of individual decision\n",
    "result = payoff[Players[0]['strategy'],Players[1]['strategy']]\n",
    "result"
   ]
  },
  {
   "cell_type": "code",
   "execution_count": 41,
   "id": "5c9a17e0",
   "metadata": {},
   "outputs": [],
   "source": [
    "# update agents situation\n",
    "Players[0]['score']+=result[0]\n",
    "Players[1]['score']+=result[1]"
   ]
  },
  {
   "cell_type": "code",
   "execution_count": 42,
   "id": "676779aa",
   "metadata": {},
   "outputs": [
    {
     "data": {
      "text/plain": [
       "[{'name': 'John', 'score': 1, 'strategy': 'Paper'},\n",
       " {'name': 'Mary', 'score': 0, 'strategy': 'Rock'}]"
      ]
     },
     "execution_count": 42,
     "metadata": {},
     "output_type": "execute_result"
    }
   ],
   "source": [
    "# current agent situation\n",
    "Players"
   ]
  },
  {
   "cell_type": "code",
   "execution_count": 43,
   "id": "47f63ec9",
   "metadata": {},
   "outputs": [],
   "source": [
    "import pandas as pd \n",
    "\n",
    "socialResults=pd.DataFrame((Players[0], Players[1]))\n",
    "socialResults\n",
    "winnerScore=socialResults.score.max()"
   ]
  },
  {
   "cell_type": "code",
   "execution_count": 44,
   "id": "dfca8f0e",
   "metadata": {},
   "outputs": [
    {
     "data": {
      "text/html": [
       "<div>\n",
       "<style scoped>\n",
       "    .dataframe tbody tr th:only-of-type {\n",
       "        vertical-align: middle;\n",
       "    }\n",
       "\n",
       "    .dataframe tbody tr th {\n",
       "        vertical-align: top;\n",
       "    }\n",
       "\n",
       "    .dataframe thead th {\n",
       "        text-align: right;\n",
       "    }\n",
       "</style>\n",
       "<table border=\"1\" class=\"dataframe\">\n",
       "  <thead>\n",
       "    <tr style=\"text-align: right;\">\n",
       "      <th></th>\n",
       "      <th>name</th>\n",
       "      <th>score</th>\n",
       "      <th>strategy</th>\n",
       "    </tr>\n",
       "  </thead>\n",
       "  <tbody>\n",
       "    <tr>\n",
       "      <th>0</th>\n",
       "      <td>John</td>\n",
       "      <td>1</td>\n",
       "      <td>Paper</td>\n",
       "    </tr>\n",
       "  </tbody>\n",
       "</table>\n",
       "</div>"
      ],
      "text/plain": [
       "   name  score strategy\n",
       "0  John      1    Paper"
      ]
     },
     "execution_count": 44,
     "metadata": {},
     "output_type": "execute_result"
    }
   ],
   "source": [
    "#social outcome\n",
    "socialResults[socialResults.score==winnerScore]"
   ]
  },
  {
   "cell_type": "code",
   "execution_count": 45,
   "id": "246e4870",
   "metadata": {},
   "outputs": [],
   "source": [
    "# names of players\n",
    "names=['Jim','Jane','Peter','Zoe']"
   ]
  },
  {
   "cell_type": "code",
   "execution_count": 46,
   "id": "9faa7df5",
   "metadata": {},
   "outputs": [],
   "source": [
    "# setting up players\n",
    "society=[{'name':n,'score':0,'strategy':None} for n in names]"
   ]
  },
  {
   "cell_type": "code",
   "execution_count": 47,
   "id": "006805cc",
   "metadata": {},
   "outputs": [
    {
     "data": {
      "text/plain": [
       "[{'name': 'Jim', 'score': 0, 'strategy': None},\n",
       " {'name': 'Jane', 'score': 0, 'strategy': None},\n",
       " {'name': 'Peter', 'score': 0, 'strategy': None},\n",
       " {'name': 'Zoe', 'score': 0, 'strategy': None}]"
      ]
     },
     "execution_count": 47,
     "metadata": {},
     "output_type": "execute_result"
    }
   ],
   "source": [
    "# each player a dict:\n",
    "society"
   ]
  },
  {
   "cell_type": "code",
   "execution_count": 48,
   "id": "94077d39",
   "metadata": {},
   "outputs": [
    {
     "name": "stdout",
     "output_type": "stream",
     "text": [
      "({'name': 'Jim', 'score': 0, 'strategy': None}, {'name': 'Jane', 'score': 0, 'strategy': None})\n",
      "({'name': 'Jim', 'score': 0, 'strategy': None}, {'name': 'Peter', 'score': 0, 'strategy': None})\n",
      "({'name': 'Jim', 'score': 0, 'strategy': None}, {'name': 'Zoe', 'score': 0, 'strategy': None})\n",
      "({'name': 'Jane', 'score': 0, 'strategy': None}, {'name': 'Peter', 'score': 0, 'strategy': None})\n",
      "({'name': 'Jane', 'score': 0, 'strategy': None}, {'name': 'Zoe', 'score': 0, 'strategy': None})\n",
      "({'name': 'Peter', 'score': 0, 'strategy': None}, {'name': 'Zoe', 'score': 0, 'strategy': None})\n"
     ]
    }
   ],
   "source": [
    "import itertools  #genera parejas\n",
    "\n",
    "# pair is a tuple of dicts\n",
    "for pair in itertools.combinations(society,2): #combinaciones de dos en dos \n",
    "    print(pair)"
   ]
  },
  {
   "cell_type": "code",
   "execution_count": 49,
   "id": "46b789af",
   "metadata": {},
   "outputs": [
    {
     "name": "stdout",
     "output_type": "stream",
     "text": [
      "{'name': 'Jim', 'score': 0, 'strategy': None} {'name': 'Jane', 'score': 0, 'strategy': None}\n",
      "{'name': 'Jim', 'score': 0, 'strategy': None} {'name': 'Peter', 'score': 0, 'strategy': None}\n",
      "{'name': 'Jim', 'score': 0, 'strategy': None} {'name': 'Zoe', 'score': 0, 'strategy': None}\n",
      "{'name': 'Jane', 'score': 0, 'strategy': None} {'name': 'Peter', 'score': 0, 'strategy': None}\n",
      "{'name': 'Jane', 'score': 0, 'strategy': None} {'name': 'Zoe', 'score': 0, 'strategy': None}\n",
      "{'name': 'Peter', 'score': 0, 'strategy': None} {'name': 'Zoe', 'score': 0, 'strategy': None}\n"
     ]
    }
   ],
   "source": [
    "import itertools \n",
    "#hace que ya no sea una sola tupla\n",
    "# each dict\n",
    "for player1,player2 in itertools.combinations(society,2):\n",
    "    print(player1,player2)"
   ]
  },
  {
   "cell_type": "code",
   "execution_count": 50,
   "id": "c2ad89cc",
   "metadata": {},
   "outputs": [],
   "source": [
    "# resetting society\n",
    "society=[{'name':n,'score':0,'strategy':None} for n in names]\n",
    "\n",
    "# several rounds\n",
    "for aRound in range(10):\n",
    "    \n",
    "    # en each round:#es una ronda de todos contra todos\n",
    "    for player1,player2 in itertools.combinations(society,2):\n",
    "        # each chooses strategy\n",
    "        player1['strategy']=choice(strategies)\n",
    "        \n",
    "        player2['strategy']=choice(strategies)\n",
    "        \n",
    "        # result from strategy chosen\n",
    "        result=payoff[player1['strategy'],player2['strategy']]\n",
    "            \n",
    "        # update scores\n",
    "        player1['score']+=result[0]\n",
    "        player2['score']+=result[1]"
   ]
  },
  {
   "cell_type": "code",
   "execution_count": 51,
   "id": "1c9415c8",
   "metadata": {
    "scrolled": true
   },
   "outputs": [
    {
     "data": {
      "text/plain": [
       "[{'name': 'Jim', 'score': 10, 'strategy': 'Rock'},\n",
       " {'name': 'Jane', 'score': 11, 'strategy': 'Paper'},\n",
       " {'name': 'Peter', 'score': 13, 'strategy': 'Scissors'},\n",
       " {'name': 'Zoe', 'score': 7, 'strategy': 'Paper'}]"
      ]
     },
     "execution_count": 51,
     "metadata": {},
     "output_type": "execute_result"
    }
   ],
   "source": [
    "# final situation\n",
    "society"
   ]
  },
  {
   "cell_type": "code",
   "execution_count": 52,
   "id": "b53e340f",
   "metadata": {
    "scrolled": true
   },
   "outputs": [
    {
     "data": {
      "text/html": [
       "<div>\n",
       "<style scoped>\n",
       "    .dataframe tbody tr th:only-of-type {\n",
       "        vertical-align: middle;\n",
       "    }\n",
       "\n",
       "    .dataframe tbody tr th {\n",
       "        vertical-align: top;\n",
       "    }\n",
       "\n",
       "    .dataframe thead th {\n",
       "        text-align: right;\n",
       "    }\n",
       "</style>\n",
       "<table border=\"1\" class=\"dataframe\">\n",
       "  <thead>\n",
       "    <tr style=\"text-align: right;\">\n",
       "      <th></th>\n",
       "      <th>name</th>\n",
       "      <th>score</th>\n",
       "      <th>strategy</th>\n",
       "    </tr>\n",
       "  </thead>\n",
       "  <tbody>\n",
       "    <tr>\n",
       "      <th>0</th>\n",
       "      <td>Jim</td>\n",
       "      <td>10</td>\n",
       "      <td>Rock</td>\n",
       "    </tr>\n",
       "    <tr>\n",
       "      <th>1</th>\n",
       "      <td>Jane</td>\n",
       "      <td>11</td>\n",
       "      <td>Paper</td>\n",
       "    </tr>\n",
       "    <tr>\n",
       "      <th>2</th>\n",
       "      <td>Peter</td>\n",
       "      <td>13</td>\n",
       "      <td>Scissors</td>\n",
       "    </tr>\n",
       "    <tr>\n",
       "      <th>3</th>\n",
       "      <td>Zoe</td>\n",
       "      <td>7</td>\n",
       "      <td>Paper</td>\n",
       "    </tr>\n",
       "  </tbody>\n",
       "</table>\n",
       "</div>"
      ],
      "text/plain": [
       "    name  score  strategy\n",
       "0    Jim     10      Rock\n",
       "1   Jane     11     Paper\n",
       "2  Peter     13  Scissors\n",
       "3    Zoe      7     Paper"
      ]
     },
     "execution_count": 52,
     "metadata": {},
     "output_type": "execute_result"
    }
   ],
   "source": [
    "# as a data frame\n",
    "socialResults=pd.DataFrame(society)\n",
    "socialResults"
   ]
  },
  {
   "cell_type": "code",
   "execution_count": 54,
   "id": "641b612e",
   "metadata": {
    "scrolled": true
   },
   "outputs": [
    {
     "data": {
      "text/html": [
       "<div>\n",
       "<style scoped>\n",
       "    .dataframe tbody tr th:only-of-type {\n",
       "        vertical-align: middle;\n",
       "    }\n",
       "\n",
       "    .dataframe tbody tr th {\n",
       "        vertical-align: top;\n",
       "    }\n",
       "\n",
       "    .dataframe thead th {\n",
       "        text-align: right;\n",
       "    }\n",
       "</style>\n",
       "<table border=\"1\" class=\"dataframe\">\n",
       "  <thead>\n",
       "    <tr style=\"text-align: right;\">\n",
       "      <th></th>\n",
       "      <th>name</th>\n",
       "      <th>score</th>\n",
       "      <th>strategy</th>\n",
       "    </tr>\n",
       "  </thead>\n",
       "  <tbody>\n",
       "    <tr>\n",
       "      <th>2</th>\n",
       "      <td>Peter</td>\n",
       "      <td>13</td>\n",
       "      <td>Scissors</td>\n",
       "    </tr>\n",
       "  </tbody>\n",
       "</table>\n",
       "</div>"
      ],
      "text/plain": [
       "    name  score  strategy\n",
       "2  Peter     13  Scissors"
      ]
     },
     "execution_count": 54,
     "metadata": {},
     "output_type": "execute_result"
    }
   ],
   "source": [
    "winnerScore=socialResults.score.max()\n",
    "\n",
    "#social outcome\n",
    "socialResults[socialResults.score==winnerScore]"
   ]
  },
  {
   "cell_type": "markdown",
   "id": "41cff425",
   "metadata": {},
   "source": [
    "## Ejercicio 1\n",
    "\n",
    "Where would you add this code to see live the results of this last tournament?\n"
   ]
  },
  {
   "cell_type": "code",
   "execution_count": 55,
   "id": "f0d93fd0",
   "metadata": {},
   "outputs": [
    {
     "name": "stdout",
     "output_type": "stream",
     "text": [
      "Peter chose Scissors - Zoe chose Paper\n",
      "Peter won\n",
      "TIE!\n"
     ]
    }
   ],
   "source": [
    "print(player1['name'] + \" chose \" + player1['strategy'] +\" - \"+player2['name'] + \" chose \" + player2['strategy'] )\n",
    "if payoff[player1['strategy'],player2['strategy']] == (1,0): \n",
    "    print(player1['name'] + \" won\") \n",
    "if payoff[player1['strategy'],player2['strategy']] == (0,1): \n",
    "    print(player2['name'] + \" won\") \n",
    "else:\n",
    "    print(\"TIE!\")"
   ]
  },
  {
   "cell_type": "markdown",
   "id": "e6fdfa93",
   "metadata": {},
   "source": [
    "# Ejericio 2\n",
    "\n",
    "How would you implement this game for 10 players, and get the results?\n"
   ]
  },
  {
   "cell_type": "code",
   "execution_count": 61,
   "id": "d2b9e363",
   "metadata": {},
   "outputs": [],
   "source": [
    "# names of players\n",
    "apostoles=['Pedro','Nicolas','Tomas','Juan', 'Richi','Mateo','Simon','Nicole','Andrea','Gonza','Bartolome']"
   ]
  },
  {
   "cell_type": "markdown",
   "id": "819d692c",
   "metadata": {},
   "source": [
    "### Estrategias "
   ]
  },
  {
   "cell_type": "code",
   "execution_count": 58,
   "id": "32721743",
   "metadata": {},
   "outputs": [],
   "source": [
    "strategies=['piedra','papel','tijera','lagatija', 'spok' ]"
   ]
  },
  {
   "cell_type": "markdown",
   "id": "42e56ad0",
   "metadata": {},
   "source": [
    "### Reglas"
   ]
  },
  {
   "cell_type": "code",
   "execution_count": 59,
   "id": "41fdb95d",
   "metadata": {},
   "outputs": [],
   "source": [
    "payoff={('papel','piedra'):(1,0),\n",
    "        ('papel','lagatija'):(0,1),\n",
    "        ('papel','spok'):(1,0),\n",
    "        ('papel','tijera'):(0,1),\n",
    "        ('papel','papel'):(0,0),#\n",
    "        ('piedra','papel'):(0,1),\n",
    "        ('piedra','tijera'):(1,0),\n",
    "        ('piedra','lagatija'):(1,0),\n",
    "        ('piedra','spok'):(0,1),      \n",
    "        ('piedra','piedra'):(0,0),#                \n",
    "        ('lagatija','papel'):(1,0),\n",
    "        ('lagatija','tijera'):(0,1),\n",
    "        ('lagatija','lagatija'):(0,0),\n",
    "        ('lagatija','spok'):(1,0),      \n",
    "        ('lagatija','piedra'):(0,1),#           \n",
    "        ('spok','papel'):(0,1),\n",
    "        ('spok','tijera'):(1,0),\n",
    "        ('spok','lagatija'):(0,1),\n",
    "        ('spok','spok'):(0,0),      \n",
    "        ('spok','piedra'):(1,0),#        \n",
    "        ('tijera','papel'):(1,0),\n",
    "        ('tijera','tijera'):(0,0),\n",
    "        ('tijera','lagatija'):(1,0),\n",
    "        ('tijera','spok'):(0,1),      \n",
    "        ('tijera','piedra'):(0,1)}"
   ]
  },
  {
   "cell_type": "code",
   "execution_count": 62,
   "id": "38a0c446",
   "metadata": {},
   "outputs": [
    {
     "name": "stdout",
     "output_type": "stream",
     "text": [
      "('Pedro', 'Nicolas')\n",
      "('Pedro', 'Tomas')\n",
      "('Pedro', 'Juan')\n",
      "('Pedro', 'Richi')\n",
      "('Pedro', 'Mateo')\n",
      "('Pedro', 'Simon')\n",
      "('Pedro', 'Nicole')\n",
      "('Pedro', 'Andrea')\n",
      "('Pedro', 'Gonza')\n",
      "('Pedro', 'Bartolome')\n",
      "('Nicolas', 'Tomas')\n",
      "('Nicolas', 'Juan')\n",
      "('Nicolas', 'Richi')\n",
      "('Nicolas', 'Mateo')\n",
      "('Nicolas', 'Simon')\n",
      "('Nicolas', 'Nicole')\n",
      "('Nicolas', 'Andrea')\n",
      "('Nicolas', 'Gonza')\n",
      "('Nicolas', 'Bartolome')\n",
      "('Tomas', 'Juan')\n",
      "('Tomas', 'Richi')\n",
      "('Tomas', 'Mateo')\n",
      "('Tomas', 'Simon')\n",
      "('Tomas', 'Nicole')\n",
      "('Tomas', 'Andrea')\n",
      "('Tomas', 'Gonza')\n",
      "('Tomas', 'Bartolome')\n",
      "('Juan', 'Richi')\n",
      "('Juan', 'Mateo')\n",
      "('Juan', 'Simon')\n",
      "('Juan', 'Nicole')\n",
      "('Juan', 'Andrea')\n",
      "('Juan', 'Gonza')\n",
      "('Juan', 'Bartolome')\n",
      "('Richi', 'Mateo')\n",
      "('Richi', 'Simon')\n",
      "('Richi', 'Nicole')\n",
      "('Richi', 'Andrea')\n",
      "('Richi', 'Gonza')\n",
      "('Richi', 'Bartolome')\n",
      "('Mateo', 'Simon')\n",
      "('Mateo', 'Nicole')\n",
      "('Mateo', 'Andrea')\n",
      "('Mateo', 'Gonza')\n",
      "('Mateo', 'Bartolome')\n",
      "('Simon', 'Nicole')\n",
      "('Simon', 'Andrea')\n",
      "('Simon', 'Gonza')\n",
      "('Simon', 'Bartolome')\n",
      "('Nicole', 'Andrea')\n",
      "('Nicole', 'Gonza')\n",
      "('Nicole', 'Bartolome')\n",
      "('Andrea', 'Gonza')\n",
      "('Andrea', 'Bartolome')\n",
      "('Gonza', 'Bartolome')\n"
     ]
    }
   ],
   "source": [
    "import itertools \n",
    "\n",
    "for pair in itertools.combinations(apostoles,2):\n",
    "    print(pair)"
   ]
  },
  {
   "cell_type": "code",
   "execution_count": 63,
   "id": "ca0bfc38",
   "metadata": {},
   "outputs": [],
   "source": [
    "apostoles=[{'apostol':n,'score':0,'strategy usada':None} for n in names]\n"
   ]
  },
  {
   "cell_type": "code",
   "execution_count": 64,
   "id": "9bac4ac9",
   "metadata": {},
   "outputs": [],
   "source": [
    "for aRound in range(100): #se hacen 100 rondas de interacciones\n",
    "    \n",
    "    # en each round:\n",
    "    for player1,player2 in itertools.combinations(apostoles,2): #genera las combinaciones sin repetición\n",
    "        # cada jugador elige (con la función choice) su elemento de strategies (estrategia)\n",
    "        player1['strategy']=choice(strategies)\n",
    "        \n",
    "        player2['strategy']=choice(strategies)\n",
    "        \n",
    "        # obtenemos el resultado producto de la interaccion de los elementos elegidos en base a las reglas\n",
    "        result=payoff[player1['strategy'],player2['strategy']]\n",
    "            \n",
    "        # update scores, es la forma abreviada de player1['score'] = player1['score'] + result[0]\n",
    "        player1['score']+=result[0]\n",
    "        player2['score']+=result[1]\n",
    "    "
   ]
  },
  {
   "cell_type": "code",
   "execution_count": 66,
   "id": "02028a43",
   "metadata": {},
   "outputs": [
    {
     "data": {
      "text/plain": [
       "[{'apostol': 'Pedro',\n",
       "  'score': 415,\n",
       "  'strategy usada': None,\n",
       "  'strategy': 'piedra'},\n",
       " {'apostol': 'Nicolas',\n",
       "  'score': 415,\n",
       "  'strategy usada': None,\n",
       "  'strategy': 'tijera'},\n",
       " {'apostol': 'Tomas',\n",
       "  'score': 401,\n",
       "  'strategy usada': None,\n",
       "  'strategy': 'spok'},\n",
       " {'apostol': 'Juan',\n",
       "  'score': 391,\n",
       "  'strategy usada': None,\n",
       "  'strategy': 'lagatija'},\n",
       " {'apostol': 'Richi',\n",
       "  'score': 368,\n",
       "  'strategy usada': None,\n",
       "  'strategy': 'papel'},\n",
       " {'apostol': 'Mateo',\n",
       "  'score': 391,\n",
       "  'strategy usada': None,\n",
       "  'strategy': 'papel'},\n",
       " {'apostol': 'Simon',\n",
       "  'score': 423,\n",
       "  'strategy usada': None,\n",
       "  'strategy': 'spok'},\n",
       " {'apostol': 'Nicole',\n",
       "  'score': 400,\n",
       "  'strategy usada': None,\n",
       "  'strategy': 'tijera'},\n",
       " {'apostol': 'Andrea',\n",
       "  'score': 412,\n",
       "  'strategy usada': None,\n",
       "  'strategy': 'lagatija'},\n",
       " {'apostol': 'Gonza',\n",
       "  'score': 382,\n",
       "  'strategy usada': None,\n",
       "  'strategy': 'tijera'},\n",
       " {'apostol': 'Bartolome',\n",
       "  'score': 377,\n",
       "  'strategy usada': None,\n",
       "  'strategy': 'piedra'}]"
      ]
     },
     "execution_count": 66,
     "metadata": {},
     "output_type": "execute_result"
    }
   ],
   "source": [
    "apostoles"
   ]
  },
  {
   "cell_type": "code",
   "execution_count": 67,
   "id": "1559e42c",
   "metadata": {},
   "outputs": [
    {
     "data": {
      "text/html": [
       "<div>\n",
       "<style scoped>\n",
       "    .dataframe tbody tr th:only-of-type {\n",
       "        vertical-align: middle;\n",
       "    }\n",
       "\n",
       "    .dataframe tbody tr th {\n",
       "        vertical-align: top;\n",
       "    }\n",
       "\n",
       "    .dataframe thead th {\n",
       "        text-align: right;\n",
       "    }\n",
       "</style>\n",
       "<table border=\"1\" class=\"dataframe\">\n",
       "  <thead>\n",
       "    <tr style=\"text-align: right;\">\n",
       "      <th></th>\n",
       "      <th>apostol</th>\n",
       "      <th>score</th>\n",
       "      <th>strategy usada</th>\n",
       "      <th>strategy</th>\n",
       "    </tr>\n",
       "  </thead>\n",
       "  <tbody>\n",
       "    <tr>\n",
       "      <th>0</th>\n",
       "      <td>Pedro</td>\n",
       "      <td>415</td>\n",
       "      <td>None</td>\n",
       "      <td>piedra</td>\n",
       "    </tr>\n",
       "    <tr>\n",
       "      <th>1</th>\n",
       "      <td>Nicolas</td>\n",
       "      <td>415</td>\n",
       "      <td>None</td>\n",
       "      <td>tijera</td>\n",
       "    </tr>\n",
       "    <tr>\n",
       "      <th>2</th>\n",
       "      <td>Tomas</td>\n",
       "      <td>401</td>\n",
       "      <td>None</td>\n",
       "      <td>spok</td>\n",
       "    </tr>\n",
       "    <tr>\n",
       "      <th>3</th>\n",
       "      <td>Juan</td>\n",
       "      <td>391</td>\n",
       "      <td>None</td>\n",
       "      <td>lagatija</td>\n",
       "    </tr>\n",
       "    <tr>\n",
       "      <th>4</th>\n",
       "      <td>Richi</td>\n",
       "      <td>368</td>\n",
       "      <td>None</td>\n",
       "      <td>papel</td>\n",
       "    </tr>\n",
       "    <tr>\n",
       "      <th>5</th>\n",
       "      <td>Mateo</td>\n",
       "      <td>391</td>\n",
       "      <td>None</td>\n",
       "      <td>papel</td>\n",
       "    </tr>\n",
       "    <tr>\n",
       "      <th>6</th>\n",
       "      <td>Simon</td>\n",
       "      <td>423</td>\n",
       "      <td>None</td>\n",
       "      <td>spok</td>\n",
       "    </tr>\n",
       "    <tr>\n",
       "      <th>7</th>\n",
       "      <td>Nicole</td>\n",
       "      <td>400</td>\n",
       "      <td>None</td>\n",
       "      <td>tijera</td>\n",
       "    </tr>\n",
       "    <tr>\n",
       "      <th>8</th>\n",
       "      <td>Andrea</td>\n",
       "      <td>412</td>\n",
       "      <td>None</td>\n",
       "      <td>lagatija</td>\n",
       "    </tr>\n",
       "    <tr>\n",
       "      <th>9</th>\n",
       "      <td>Gonza</td>\n",
       "      <td>382</td>\n",
       "      <td>None</td>\n",
       "      <td>tijera</td>\n",
       "    </tr>\n",
       "    <tr>\n",
       "      <th>10</th>\n",
       "      <td>Bartolome</td>\n",
       "      <td>377</td>\n",
       "      <td>None</td>\n",
       "      <td>piedra</td>\n",
       "    </tr>\n",
       "  </tbody>\n",
       "</table>\n",
       "</div>"
      ],
      "text/plain": [
       "      apostol  score strategy usada  strategy\n",
       "0       Pedro    415           None    piedra\n",
       "1     Nicolas    415           None    tijera\n",
       "2       Tomas    401           None      spok\n",
       "3        Juan    391           None  lagatija\n",
       "4       Richi    368           None     papel\n",
       "5       Mateo    391           None     papel\n",
       "6       Simon    423           None      spok\n",
       "7      Nicole    400           None    tijera\n",
       "8      Andrea    412           None  lagatija\n",
       "9       Gonza    382           None    tijera\n",
       "10  Bartolome    377           None    piedra"
      ]
     },
     "execution_count": 67,
     "metadata": {},
     "output_type": "execute_result"
    }
   ],
   "source": [
    "Resultado=pd.DataFrame(apostoles)\n",
    "Resultado"
   ]
  },
  {
   "cell_type": "code",
   "execution_count": 68,
   "id": "01bb70bd",
   "metadata": {},
   "outputs": [],
   "source": [
    "winnerScore=Resultado.score.max()"
   ]
  },
  {
   "cell_type": "code",
   "execution_count": 69,
   "id": "8da8f6f8",
   "metadata": {},
   "outputs": [
    {
     "data": {
      "text/html": [
       "<div>\n",
       "<style scoped>\n",
       "    .dataframe tbody tr th:only-of-type {\n",
       "        vertical-align: middle;\n",
       "    }\n",
       "\n",
       "    .dataframe tbody tr th {\n",
       "        vertical-align: top;\n",
       "    }\n",
       "\n",
       "    .dataframe thead th {\n",
       "        text-align: right;\n",
       "    }\n",
       "</style>\n",
       "<table border=\"1\" class=\"dataframe\">\n",
       "  <thead>\n",
       "    <tr style=\"text-align: right;\">\n",
       "      <th></th>\n",
       "      <th>apostol</th>\n",
       "      <th>score</th>\n",
       "      <th>strategy usada</th>\n",
       "      <th>strategy</th>\n",
       "    </tr>\n",
       "  </thead>\n",
       "  <tbody>\n",
       "    <tr>\n",
       "      <th>6</th>\n",
       "      <td>Simon</td>\n",
       "      <td>423</td>\n",
       "      <td>None</td>\n",
       "      <td>spok</td>\n",
       "    </tr>\n",
       "  </tbody>\n",
       "</table>\n",
       "</div>"
      ],
      "text/plain": [
       "  apostol  score strategy usada strategy\n",
       "6   Simon    423           None     spok"
      ]
     },
     "execution_count": 69,
     "metadata": {},
     "output_type": "execute_result"
    }
   ],
   "source": [
    "Resultado[Resultado.score==winnerScore]"
   ]
  },
  {
   "cell_type": "code",
   "execution_count": null,
   "id": "aa9921d9",
   "metadata": {},
   "outputs": [],
   "source": [
    "#Simon ha sido el ganador"
   ]
  }
 ],
 "metadata": {
  "authors": [
   {
    "affiliation": "Afiliación del Autor",
    "email": "autor@ejemplo.com",
    "name": "Nombre del Autor"
   }
  ],
  "date_created": "2024-05-29",
  "description": "Este notebook contiene una simulación de estrategias de jugadores en un entorno multi-agente, actualizando sus puntajes en función de los resultados de sus interacciones a lo largo de 100 rondas.",
  "kernelspec": {
   "display_name": "Python 3 (ipykernel)",
   "language": "python",
   "name": "python3"
  },
  "language_info": {
   "codemirror_mode": {
    "name": "ipython",
    "version": 3
   },
   "file_extension": ".py",
   "mimetype": "text/x-python",
   "name": "python",
   "nbconvert_exporter": "python",
   "pygments_lexer": "ipython3",
   "version": "3.11.3"
  },
  "last_modified": "2024-05-29",
  "license": "MIT",
  "tags": [
   "estrategias",
   "simulación",
   "juegos",
   "análisis"
  ],
  "title": "Análisis de Estrategias de Jugadores"
 },
 "nbformat": 4,
 "nbformat_minor": 5
}
