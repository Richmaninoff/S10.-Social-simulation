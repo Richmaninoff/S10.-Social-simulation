{
 "cells": [
  {
   "cell_type": "markdown",
   "id": "e6fdfa93",
   "metadata": {},
   "source": [
    "# Ejericio 2\n",
    "\n",
    "How would you implement this game for 10 players, and get the results?\n"
   ]
  },
  {
   "cell_type": "code",
   "execution_count": 1,
   "id": "d2b9e363",
   "metadata": {},
   "outputs": [],
   "source": [
    "# names of players\n",
    "names=['Pedro','Nicolas','Tomas','Juan', 'Richi','Mateo','Simon','Nicole','Andrea','Gonza','Bartolome']"
   ]
  },
  {
   "cell_type": "markdown",
   "id": "819d692c",
   "metadata": {},
   "source": [
    "### Estrategias "
   ]
  },
  {
   "cell_type": "code",
   "execution_count": 2,
   "id": "32721743",
   "metadata": {},
   "outputs": [],
   "source": [
    "strategies=['piedra','papel','tijera','lagatija', 'spok' ]"
   ]
  },
  {
   "cell_type": "code",
   "execution_count": 3,
   "id": "ca0bfc38",
   "metadata": {},
   "outputs": [],
   "source": [
    "apostoles=[{'apostoles':n,'score':0,'strategy usada':None} for n in names]\n"
   ]
  },
  {
   "cell_type": "markdown",
   "id": "42e56ad0",
   "metadata": {},
   "source": [
    "### Reglas"
   ]
  },
  {
   "cell_type": "code",
   "execution_count": 4,
   "id": "41fdb95d",
   "metadata": {},
   "outputs": [],
   "source": [
    "payoff={('papel','piedra'):(1,0),\n",
    "        ('papel','lagatija'):(0,1),\n",
    "        ('papel','spok'):(1,0),\n",
    "        ('papel','tijera'):(0,1),\n",
    "        ('papel','papel'):(0,0),#\n",
    "        ('piedra','papel'):(0,1),\n",
    "        ('piedra','tijera'):(1,0),\n",
    "        ('piedra','lagatija'):(1,0),\n",
    "        ('piedra','spok'):(0,1),      \n",
    "        ('piedra','piedra'):(0,0),#                \n",
    "        ('lagatija','papel'):(1,0),\n",
    "        ('lagatija','tijera'):(0,1),\n",
    "        ('lagatija','lagatija'):(0,0),\n",
    "        ('lagatija','spok'):(1,0),      \n",
    "        ('lagatija','piedra'):(0,1),#           \n",
    "        ('spok','papel'):(0,1),\n",
    "        ('spok','tijera'):(1,0),\n",
    "        ('spok','lagatija'):(0,1),\n",
    "        ('spok','spok'):(0,0),      \n",
    "        ('spok','piedra'):(1,0),#        \n",
    "        ('tijera','papel'):(1,0),\n",
    "        ('tijera','tijera'):(0,0),\n",
    "        ('tijera','lagatija'):(1,0),\n",
    "        ('tijera','spok'):(0,1),      \n",
    "        ('tijera','piedra'):(0,1)}"
   ]
  },
  {
   "cell_type": "code",
   "execution_count": 5,
   "id": "38a0c446",
   "metadata": {},
   "outputs": [
    {
     "name": "stdout",
     "output_type": "stream",
     "text": [
      "({'apostoles': 'Pedro', 'score': 0, 'strategy usada': None}, {'apostoles': 'Nicolas', 'score': 0, 'strategy usada': None})\n",
      "({'apostoles': 'Pedro', 'score': 0, 'strategy usada': None}, {'apostoles': 'Tomas', 'score': 0, 'strategy usada': None})\n",
      "({'apostoles': 'Pedro', 'score': 0, 'strategy usada': None}, {'apostoles': 'Juan', 'score': 0, 'strategy usada': None})\n",
      "({'apostoles': 'Pedro', 'score': 0, 'strategy usada': None}, {'apostoles': 'Richi', 'score': 0, 'strategy usada': None})\n",
      "({'apostoles': 'Pedro', 'score': 0, 'strategy usada': None}, {'apostoles': 'Mateo', 'score': 0, 'strategy usada': None})\n",
      "({'apostoles': 'Pedro', 'score': 0, 'strategy usada': None}, {'apostoles': 'Simon', 'score': 0, 'strategy usada': None})\n",
      "({'apostoles': 'Pedro', 'score': 0, 'strategy usada': None}, {'apostoles': 'Nicole', 'score': 0, 'strategy usada': None})\n",
      "({'apostoles': 'Pedro', 'score': 0, 'strategy usada': None}, {'apostoles': 'Andrea', 'score': 0, 'strategy usada': None})\n",
      "({'apostoles': 'Pedro', 'score': 0, 'strategy usada': None}, {'apostoles': 'Gonza', 'score': 0, 'strategy usada': None})\n",
      "({'apostoles': 'Pedro', 'score': 0, 'strategy usada': None}, {'apostoles': 'Bartolome', 'score': 0, 'strategy usada': None})\n",
      "({'apostoles': 'Nicolas', 'score': 0, 'strategy usada': None}, {'apostoles': 'Tomas', 'score': 0, 'strategy usada': None})\n",
      "({'apostoles': 'Nicolas', 'score': 0, 'strategy usada': None}, {'apostoles': 'Juan', 'score': 0, 'strategy usada': None})\n",
      "({'apostoles': 'Nicolas', 'score': 0, 'strategy usada': None}, {'apostoles': 'Richi', 'score': 0, 'strategy usada': None})\n",
      "({'apostoles': 'Nicolas', 'score': 0, 'strategy usada': None}, {'apostoles': 'Mateo', 'score': 0, 'strategy usada': None})\n",
      "({'apostoles': 'Nicolas', 'score': 0, 'strategy usada': None}, {'apostoles': 'Simon', 'score': 0, 'strategy usada': None})\n",
      "({'apostoles': 'Nicolas', 'score': 0, 'strategy usada': None}, {'apostoles': 'Nicole', 'score': 0, 'strategy usada': None})\n",
      "({'apostoles': 'Nicolas', 'score': 0, 'strategy usada': None}, {'apostoles': 'Andrea', 'score': 0, 'strategy usada': None})\n",
      "({'apostoles': 'Nicolas', 'score': 0, 'strategy usada': None}, {'apostoles': 'Gonza', 'score': 0, 'strategy usada': None})\n",
      "({'apostoles': 'Nicolas', 'score': 0, 'strategy usada': None}, {'apostoles': 'Bartolome', 'score': 0, 'strategy usada': None})\n",
      "({'apostoles': 'Tomas', 'score': 0, 'strategy usada': None}, {'apostoles': 'Juan', 'score': 0, 'strategy usada': None})\n",
      "({'apostoles': 'Tomas', 'score': 0, 'strategy usada': None}, {'apostoles': 'Richi', 'score': 0, 'strategy usada': None})\n",
      "({'apostoles': 'Tomas', 'score': 0, 'strategy usada': None}, {'apostoles': 'Mateo', 'score': 0, 'strategy usada': None})\n",
      "({'apostoles': 'Tomas', 'score': 0, 'strategy usada': None}, {'apostoles': 'Simon', 'score': 0, 'strategy usada': None})\n",
      "({'apostoles': 'Tomas', 'score': 0, 'strategy usada': None}, {'apostoles': 'Nicole', 'score': 0, 'strategy usada': None})\n",
      "({'apostoles': 'Tomas', 'score': 0, 'strategy usada': None}, {'apostoles': 'Andrea', 'score': 0, 'strategy usada': None})\n",
      "({'apostoles': 'Tomas', 'score': 0, 'strategy usada': None}, {'apostoles': 'Gonza', 'score': 0, 'strategy usada': None})\n",
      "({'apostoles': 'Tomas', 'score': 0, 'strategy usada': None}, {'apostoles': 'Bartolome', 'score': 0, 'strategy usada': None})\n",
      "({'apostoles': 'Juan', 'score': 0, 'strategy usada': None}, {'apostoles': 'Richi', 'score': 0, 'strategy usada': None})\n",
      "({'apostoles': 'Juan', 'score': 0, 'strategy usada': None}, {'apostoles': 'Mateo', 'score': 0, 'strategy usada': None})\n",
      "({'apostoles': 'Juan', 'score': 0, 'strategy usada': None}, {'apostoles': 'Simon', 'score': 0, 'strategy usada': None})\n",
      "({'apostoles': 'Juan', 'score': 0, 'strategy usada': None}, {'apostoles': 'Nicole', 'score': 0, 'strategy usada': None})\n",
      "({'apostoles': 'Juan', 'score': 0, 'strategy usada': None}, {'apostoles': 'Andrea', 'score': 0, 'strategy usada': None})\n",
      "({'apostoles': 'Juan', 'score': 0, 'strategy usada': None}, {'apostoles': 'Gonza', 'score': 0, 'strategy usada': None})\n",
      "({'apostoles': 'Juan', 'score': 0, 'strategy usada': None}, {'apostoles': 'Bartolome', 'score': 0, 'strategy usada': None})\n",
      "({'apostoles': 'Richi', 'score': 0, 'strategy usada': None}, {'apostoles': 'Mateo', 'score': 0, 'strategy usada': None})\n",
      "({'apostoles': 'Richi', 'score': 0, 'strategy usada': None}, {'apostoles': 'Simon', 'score': 0, 'strategy usada': None})\n",
      "({'apostoles': 'Richi', 'score': 0, 'strategy usada': None}, {'apostoles': 'Nicole', 'score': 0, 'strategy usada': None})\n",
      "({'apostoles': 'Richi', 'score': 0, 'strategy usada': None}, {'apostoles': 'Andrea', 'score': 0, 'strategy usada': None})\n",
      "({'apostoles': 'Richi', 'score': 0, 'strategy usada': None}, {'apostoles': 'Gonza', 'score': 0, 'strategy usada': None})\n",
      "({'apostoles': 'Richi', 'score': 0, 'strategy usada': None}, {'apostoles': 'Bartolome', 'score': 0, 'strategy usada': None})\n",
      "({'apostoles': 'Mateo', 'score': 0, 'strategy usada': None}, {'apostoles': 'Simon', 'score': 0, 'strategy usada': None})\n",
      "({'apostoles': 'Mateo', 'score': 0, 'strategy usada': None}, {'apostoles': 'Nicole', 'score': 0, 'strategy usada': None})\n",
      "({'apostoles': 'Mateo', 'score': 0, 'strategy usada': None}, {'apostoles': 'Andrea', 'score': 0, 'strategy usada': None})\n",
      "({'apostoles': 'Mateo', 'score': 0, 'strategy usada': None}, {'apostoles': 'Gonza', 'score': 0, 'strategy usada': None})\n",
      "({'apostoles': 'Mateo', 'score': 0, 'strategy usada': None}, {'apostoles': 'Bartolome', 'score': 0, 'strategy usada': None})\n",
      "({'apostoles': 'Simon', 'score': 0, 'strategy usada': None}, {'apostoles': 'Nicole', 'score': 0, 'strategy usada': None})\n",
      "({'apostoles': 'Simon', 'score': 0, 'strategy usada': None}, {'apostoles': 'Andrea', 'score': 0, 'strategy usada': None})\n",
      "({'apostoles': 'Simon', 'score': 0, 'strategy usada': None}, {'apostoles': 'Gonza', 'score': 0, 'strategy usada': None})\n",
      "({'apostoles': 'Simon', 'score': 0, 'strategy usada': None}, {'apostoles': 'Bartolome', 'score': 0, 'strategy usada': None})\n",
      "({'apostoles': 'Nicole', 'score': 0, 'strategy usada': None}, {'apostoles': 'Andrea', 'score': 0, 'strategy usada': None})\n",
      "({'apostoles': 'Nicole', 'score': 0, 'strategy usada': None}, {'apostoles': 'Gonza', 'score': 0, 'strategy usada': None})\n",
      "({'apostoles': 'Nicole', 'score': 0, 'strategy usada': None}, {'apostoles': 'Bartolome', 'score': 0, 'strategy usada': None})\n",
      "({'apostoles': 'Andrea', 'score': 0, 'strategy usada': None}, {'apostoles': 'Gonza', 'score': 0, 'strategy usada': None})\n",
      "({'apostoles': 'Andrea', 'score': 0, 'strategy usada': None}, {'apostoles': 'Bartolome', 'score': 0, 'strategy usada': None})\n",
      "({'apostoles': 'Gonza', 'score': 0, 'strategy usada': None}, {'apostoles': 'Bartolome', 'score': 0, 'strategy usada': None})\n"
     ]
    }
   ],
   "source": [
    "import itertools \n",
    "\n",
    "for pair in itertools.combinations(apostoles,2):\n",
    "    print(pair)"
   ]
  },
  {
   "cell_type": "code",
   "execution_count": 6,
   "id": "b9ea0485",
   "metadata": {},
   "outputs": [],
   "source": [
    "from random import choice"
   ]
  },
  {
   "cell_type": "code",
   "execution_count": 7,
   "id": "9bac4ac9",
   "metadata": {},
   "outputs": [],
   "source": [
    "for aRound in range(100): #se hacen 100 rondas de interacciones\n",
    "    \n",
    "    # en each round:\n",
    "    for player1,player2 in itertools.combinations(apostoles,2): #genera las combinaciones sin repetición\n",
    "        # cada jugador elige (con la función choice) su elemento de strategies (estrategia)\n",
    "        player1['strategy']=choice(strategies)\n",
    "        \n",
    "        player2['strategy']=choice(strategies)\n",
    "        \n",
    "        # obtenemos el resultado producto de la interaccion de los elementos elegidos en base a las reglas\n",
    "        result=payoff[player1['strategy'],player2['strategy']]\n",
    "            \n",
    "        # update scores, es la forma abreviada de player1['score'] = player1['score'] + result[0]\n",
    "        player1['score']+=result[0]\n",
    "        player2['score']+=result[1]\n",
    "    "
   ]
  },
  {
   "cell_type": "code",
   "execution_count": 8,
   "id": "02028a43",
   "metadata": {},
   "outputs": [
    {
     "data": {
      "text/plain": [
       "[{'apostoles': 'Pedro',\n",
       "  'score': 406,\n",
       "  'strategy usada': None,\n",
       "  'strategy': 'tijera'},\n",
       " {'apostoles': 'Nicolas',\n",
       "  'score': 395,\n",
       "  'strategy usada': None,\n",
       "  'strategy': 'papel'},\n",
       " {'apostoles': 'Tomas',\n",
       "  'score': 385,\n",
       "  'strategy usada': None,\n",
       "  'strategy': 'piedra'},\n",
       " {'apostoles': 'Juan',\n",
       "  'score': 406,\n",
       "  'strategy usada': None,\n",
       "  'strategy': 'tijera'},\n",
       " {'apostoles': 'Richi',\n",
       "  'score': 387,\n",
       "  'strategy usada': None,\n",
       "  'strategy': 'lagatija'},\n",
       " {'apostoles': 'Mateo',\n",
       "  'score': 374,\n",
       "  'strategy usada': None,\n",
       "  'strategy': 'papel'},\n",
       " {'apostoles': 'Simon',\n",
       "  'score': 389,\n",
       "  'strategy usada': None,\n",
       "  'strategy': 'tijera'},\n",
       " {'apostoles': 'Nicole',\n",
       "  'score': 435,\n",
       "  'strategy usada': None,\n",
       "  'strategy': 'lagatija'},\n",
       " {'apostoles': 'Andrea',\n",
       "  'score': 400,\n",
       "  'strategy usada': None,\n",
       "  'strategy': 'lagatija'},\n",
       " {'apostoles': 'Gonza',\n",
       "  'score': 390,\n",
       "  'strategy usada': None,\n",
       "  'strategy': 'spok'},\n",
       " {'apostoles': 'Bartolome',\n",
       "  'score': 426,\n",
       "  'strategy usada': None,\n",
       "  'strategy': 'piedra'}]"
      ]
     },
     "execution_count": 8,
     "metadata": {},
     "output_type": "execute_result"
    }
   ],
   "source": [
    "apostoles"
   ]
  },
  {
   "cell_type": "code",
   "execution_count": 9,
   "id": "1559e42c",
   "metadata": {},
   "outputs": [
    {
     "data": {
      "text/html": [
       "<div>\n",
       "<style scoped>\n",
       "    .dataframe tbody tr th:only-of-type {\n",
       "        vertical-align: middle;\n",
       "    }\n",
       "\n",
       "    .dataframe tbody tr th {\n",
       "        vertical-align: top;\n",
       "    }\n",
       "\n",
       "    .dataframe thead th {\n",
       "        text-align: right;\n",
       "    }\n",
       "</style>\n",
       "<table border=\"1\" class=\"dataframe\">\n",
       "  <thead>\n",
       "    <tr style=\"text-align: right;\">\n",
       "      <th></th>\n",
       "      <th>apostoles</th>\n",
       "      <th>score</th>\n",
       "      <th>strategy usada</th>\n",
       "      <th>strategy</th>\n",
       "    </tr>\n",
       "  </thead>\n",
       "  <tbody>\n",
       "    <tr>\n",
       "      <th>0</th>\n",
       "      <td>Pedro</td>\n",
       "      <td>406</td>\n",
       "      <td>None</td>\n",
       "      <td>tijera</td>\n",
       "    </tr>\n",
       "    <tr>\n",
       "      <th>1</th>\n",
       "      <td>Nicolas</td>\n",
       "      <td>395</td>\n",
       "      <td>None</td>\n",
       "      <td>papel</td>\n",
       "    </tr>\n",
       "    <tr>\n",
       "      <th>2</th>\n",
       "      <td>Tomas</td>\n",
       "      <td>385</td>\n",
       "      <td>None</td>\n",
       "      <td>piedra</td>\n",
       "    </tr>\n",
       "    <tr>\n",
       "      <th>3</th>\n",
       "      <td>Juan</td>\n",
       "      <td>406</td>\n",
       "      <td>None</td>\n",
       "      <td>tijera</td>\n",
       "    </tr>\n",
       "    <tr>\n",
       "      <th>4</th>\n",
       "      <td>Richi</td>\n",
       "      <td>387</td>\n",
       "      <td>None</td>\n",
       "      <td>lagatija</td>\n",
       "    </tr>\n",
       "    <tr>\n",
       "      <th>5</th>\n",
       "      <td>Mateo</td>\n",
       "      <td>374</td>\n",
       "      <td>None</td>\n",
       "      <td>papel</td>\n",
       "    </tr>\n",
       "    <tr>\n",
       "      <th>6</th>\n",
       "      <td>Simon</td>\n",
       "      <td>389</td>\n",
       "      <td>None</td>\n",
       "      <td>tijera</td>\n",
       "    </tr>\n",
       "    <tr>\n",
       "      <th>7</th>\n",
       "      <td>Nicole</td>\n",
       "      <td>435</td>\n",
       "      <td>None</td>\n",
       "      <td>lagatija</td>\n",
       "    </tr>\n",
       "    <tr>\n",
       "      <th>8</th>\n",
       "      <td>Andrea</td>\n",
       "      <td>400</td>\n",
       "      <td>None</td>\n",
       "      <td>lagatija</td>\n",
       "    </tr>\n",
       "    <tr>\n",
       "      <th>9</th>\n",
       "      <td>Gonza</td>\n",
       "      <td>390</td>\n",
       "      <td>None</td>\n",
       "      <td>spok</td>\n",
       "    </tr>\n",
       "    <tr>\n",
       "      <th>10</th>\n",
       "      <td>Bartolome</td>\n",
       "      <td>426</td>\n",
       "      <td>None</td>\n",
       "      <td>piedra</td>\n",
       "    </tr>\n",
       "  </tbody>\n",
       "</table>\n",
       "</div>"
      ],
      "text/plain": [
       "    apostoles  score strategy usada  strategy\n",
       "0       Pedro    406           None    tijera\n",
       "1     Nicolas    395           None     papel\n",
       "2       Tomas    385           None    piedra\n",
       "3        Juan    406           None    tijera\n",
       "4       Richi    387           None  lagatija\n",
       "5       Mateo    374           None     papel\n",
       "6       Simon    389           None    tijera\n",
       "7      Nicole    435           None  lagatija\n",
       "8      Andrea    400           None  lagatija\n",
       "9       Gonza    390           None      spok\n",
       "10  Bartolome    426           None    piedra"
      ]
     },
     "execution_count": 9,
     "metadata": {},
     "output_type": "execute_result"
    }
   ],
   "source": [
    "import pandas as pd\n",
    "Resultado=pd.DataFrame(apostoles)\n",
    "Resultado"
   ]
  },
  {
   "cell_type": "code",
   "execution_count": 10,
   "id": "01bb70bd",
   "metadata": {},
   "outputs": [],
   "source": [
    "winnerScore=Resultado.score.max()"
   ]
  },
  {
   "cell_type": "code",
   "execution_count": 11,
   "id": "8da8f6f8",
   "metadata": {},
   "outputs": [
    {
     "data": {
      "text/html": [
       "<div>\n",
       "<style scoped>\n",
       "    .dataframe tbody tr th:only-of-type {\n",
       "        vertical-align: middle;\n",
       "    }\n",
       "\n",
       "    .dataframe tbody tr th {\n",
       "        vertical-align: top;\n",
       "    }\n",
       "\n",
       "    .dataframe thead th {\n",
       "        text-align: right;\n",
       "    }\n",
       "</style>\n",
       "<table border=\"1\" class=\"dataframe\">\n",
       "  <thead>\n",
       "    <tr style=\"text-align: right;\">\n",
       "      <th></th>\n",
       "      <th>apostoles</th>\n",
       "      <th>score</th>\n",
       "      <th>strategy usada</th>\n",
       "      <th>strategy</th>\n",
       "    </tr>\n",
       "  </thead>\n",
       "  <tbody>\n",
       "    <tr>\n",
       "      <th>7</th>\n",
       "      <td>Nicole</td>\n",
       "      <td>435</td>\n",
       "      <td>None</td>\n",
       "      <td>lagatija</td>\n",
       "    </tr>\n",
       "  </tbody>\n",
       "</table>\n",
       "</div>"
      ],
      "text/plain": [
       "  apostoles  score strategy usada  strategy\n",
       "7    Nicole    435           None  lagatija"
      ]
     },
     "execution_count": 11,
     "metadata": {},
     "output_type": "execute_result"
    }
   ],
   "source": [
    "Resultado[Resultado.score==winnerScore]"
   ]
  },
  {
   "cell_type": "code",
   "execution_count": 12,
   "id": "aa9921d9",
   "metadata": {},
   "outputs": [],
   "source": [
    "#Nicole ha sido  ganadora"
   ]
  }
 ],
 "metadata": {
  "authors": [
   {
    "affiliation": "Afiliación del Autor",
    "email": "autor@ejemplo.com",
    "name": "Nombre del Autor"
   }
  ],
  "date_created": "2024-05-29",
  "description": "Este notebook contiene una simulación de estrategias de jugadores en un entorno multi-agente, actualizando sus puntajes en función de los resultados de sus interacciones a lo largo de 100 rondas.",
  "kernelspec": {
   "display_name": "Python 3 (ipykernel)",
   "language": "python",
   "name": "python3"
  },
  "language_info": {
   "codemirror_mode": {
    "name": "ipython",
    "version": 3
   },
   "file_extension": ".py",
   "mimetype": "text/x-python",
   "name": "python",
   "nbconvert_exporter": "python",
   "pygments_lexer": "ipython3",
   "version": "3.11.3"
  },
  "last_modified": "2024-05-29",
  "license": "MIT",
  "tags": [
   "estrategias",
   "simulación",
   "juegos",
   "análisis"
  ],
  "title": "Análisis de Estrategias de Jugadores"
 },
 "nbformat": 4,
 "nbformat_minor": 5
}
